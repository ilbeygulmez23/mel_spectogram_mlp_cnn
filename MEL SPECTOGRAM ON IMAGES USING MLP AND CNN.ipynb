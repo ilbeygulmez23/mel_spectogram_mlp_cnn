{
  "cells": [
    {
      "cell_type": "markdown",
      "metadata": {
        "id": "b4379a09"
      },
      "source": [
        "# AIN313 - Assignment 3 - b2210765024"
      ],
      "id": "b4379a09"
    },
    {
      "cell_type": "markdown",
      "metadata": {
        "id": "c6e0eacb"
      },
      "source": [
        "## PART I : THEORY QUESTIONS"
      ],
      "id": "c6e0eacb"
    },
    {
      "cell_type": "markdown",
      "metadata": {
        "id": "b5e3b8cc"
      },
      "source": [
        "### Part 1.1"
      ],
      "id": "b5e3b8cc"
    },
    {
      "cell_type": "markdown",
      "metadata": {
        "id": "1dfb770c"
      },
      "source": [
        "Layer     |   Output Volume Shape  |   Number of parameter\n",
        "\n",
        "Input     |       127x127x4        |           0\n",
        "\n",
        "CONV3-10  \n",
        "\n",
        "POOL-3    \n",
        "\n",
        "CONV3-10\n",
        "\n",
        "POOL-2\n",
        "\n",
        "FC-20     \n",
        "\n",
        "FC-10     \n"
      ],
      "id": "1dfb770c"
    },
    {
      "cell_type": "markdown",
      "metadata": {
        "id": "d9f3c2b8"
      },
      "source": [
        "Define the formula for Output Volume Shape - Number of Parameters"
      ],
      "id": "d9f3c2b8"
    },
    {
      "cell_type": "code",
      "execution_count": null,
      "metadata": {
        "id": "826e9eb8"
      },
      "outputs": [],
      "source": [
        "def calculate_output_volume_shape(input_size, filter_size, number_of_filters,\n",
        "                   padding, stride):\n",
        "    output_size = ((input_size - filter_size + 2*padding) / stride) + 1\n",
        "    output_volume_shape = int(output_size), int(output_size), number_of_filters\n",
        "    print(f\"Output volume shape : {output_volume_shape}\")\n",
        "    return (output_volume_shape)\n",
        "def calculate_number_of_parameters(filter_size, number_of_filters, input_channels):\n",
        "    number_of_parameters = (filter_size * filter_size *\n",
        "                        input_channels + 1) * number_of_filters\n",
        "    print(f\"Number of parameters : {number_of_parameters}\")\n",
        "    return number_of_parameters\n"
      ],
      "id": "826e9eb8"
    },
    {
      "cell_type": "markdown",
      "metadata": {
        "id": "3a69b050"
      },
      "source": [
        "CONV3- 10 : 10 filters with 3x3 filter size, 0 padding, 1 stride"
      ],
      "id": "3a69b050"
    },
    {
      "cell_type": "code",
      "execution_count": null,
      "metadata": {
        "colab": {
          "base_uri": "https://localhost:8080/"
        },
        "id": "42e72712",
        "outputId": "5400a630-d0d0-4450-aeb3-54c5ec51e30e"
      },
      "outputs": [
        {
          "output_type": "stream",
          "name": "stdout",
          "text": [
            "Output volume shape : (125, 125, 10)\n",
            "Number of parameters : 370\n",
            "\n"
          ]
        }
      ],
      "source": [
        "calculate_output_volume_shape(127,3,10,0,1)\n",
        "calculate_number_of_parameters(3,10,4)\n",
        "print()"
      ],
      "id": "42e72712"
    },
    {
      "cell_type": "markdown",
      "metadata": {
        "id": "82c85632"
      },
      "source": [
        "POOL-3 : 3x3 max pooling layer with stride 2 (padding is not in the formula so we will set it to 0)\n",
        "\n",
        "Pooling doesn't involve parameters to learn. So it will be automatically zero."
      ],
      "id": "82c85632"
    },
    {
      "cell_type": "code",
      "execution_count": null,
      "metadata": {
        "colab": {
          "base_uri": "https://localhost:8080/"
        },
        "id": "c68d7a8b",
        "outputId": "ba83a04f-b0c8-4c7b-fe1e-fb1277c4702c",
        "scrolled": true
      },
      "outputs": [
        {
          "output_type": "stream",
          "name": "stdout",
          "text": [
            "Output volume shape : (62, 62, 10)\n",
            "Number of parameters : 0\n",
            "\n"
          ]
        }
      ],
      "source": [
        "calculate_output_volume_shape(125,3,10,0,2)\n",
        "print(\"Number of parameters : 0\")\n",
        "print()"
      ],
      "id": "c68d7a8b"
    },
    {
      "cell_type": "markdown",
      "metadata": {
        "id": "6618ea89"
      },
      "source": [
        "CONV3- 10 : 10 filters with 3x3 filter size, 0 padding, 1 stride"
      ],
      "id": "6618ea89"
    },
    {
      "cell_type": "code",
      "execution_count": null,
      "metadata": {
        "colab": {
          "base_uri": "https://localhost:8080/"
        },
        "id": "51a81773",
        "outputId": "7c616891-4fdd-4465-f171-591e5c92125a"
      },
      "outputs": [
        {
          "output_type": "stream",
          "name": "stdout",
          "text": [
            "Output volume shape : (60, 60, 10)\n",
            "Number of parameters : 910\n",
            "\n"
          ]
        }
      ],
      "source": [
        "calculate_output_volume_shape(62,3,10,0,1)\n",
        "calculate_number_of_parameters(3,10,10)\n",
        "print()\n"
      ],
      "id": "51a81773"
    },
    {
      "cell_type": "markdown",
      "metadata": {
        "id": "34c81ffb"
      },
      "source": [
        "POOL-2 : 2x2 max pooling layer with stride 2 (padding is not in the formula so we will set it to 0)\n",
        "\n",
        "Pooling doesn't involve parameters to learn. So it will be automatically zero."
      ],
      "id": "34c81ffb"
    },
    {
      "cell_type": "code",
      "execution_count": null,
      "metadata": {
        "colab": {
          "base_uri": "https://localhost:8080/"
        },
        "id": "912f2141",
        "outputId": "edb25b19-e51d-47ff-cf6d-98d4c85618eb"
      },
      "outputs": [
        {
          "output_type": "stream",
          "name": "stdout",
          "text": [
            "Output volume shape : (30, 30, 10)\n",
            "Number of parameters : 0\n",
            "\n"
          ]
        }
      ],
      "source": [
        "calculate_output_volume_shape(60,2,10,0,2)\n",
        "print(\"Number of parameters : 0\")\n",
        "print()"
      ],
      "id": "912f2141"
    },
    {
      "cell_type": "markdown",
      "metadata": {
        "id": "c15d3303"
      },
      "source": [
        "FC-20 : fully-connected layer with 20 neurons\n",
        "\n",
        "Output Volume Shape : 1D Vector with size = Number Of Neurons\n",
        "\n",
        "Number of Parameters : (Input Shape + 1) * Number Of Neurons"
      ],
      "id": "c15d3303"
    },
    {
      "cell_type": "code",
      "execution_count": null,
      "metadata": {
        "colab": {
          "base_uri": "https://localhost:8080/"
        },
        "id": "54abcfec",
        "outputId": "e5817f98-3b91-485d-bebb-2bee45ace006"
      },
      "outputs": [
        {
          "output_type": "stream",
          "name": "stdout",
          "text": [
            "Output volume shape : (20,)\n",
            "Number of paramaters : 180020\n"
          ]
        }
      ],
      "source": [
        "output_volume_shape = (20,)\n",
        "number_of_parameters = (30*30*10+1) * 20\n",
        "\n",
        "print(f\"Output volume shape : {output_volume_shape}\")\n",
        "print(f\"Number of paramaters : {number_of_parameters}\")"
      ],
      "id": "54abcfec"
    },
    {
      "cell_type": "markdown",
      "metadata": {
        "id": "f2872dda"
      },
      "source": [
        "FC-10 : fully-connected layer with 10 neurons\n",
        "\n",
        "Output Volume Shape : 1D Vector with size = Number Of Neurons\n",
        "\n",
        "Number of Parameters : (Input Shape + 1) * Number Of Neurons"
      ],
      "id": "f2872dda"
    },
    {
      "cell_type": "code",
      "execution_count": null,
      "metadata": {
        "colab": {
          "base_uri": "https://localhost:8080/"
        },
        "id": "7d295d0b",
        "outputId": "948981ef-1cc3-4203-cf87-39f012813d0b"
      },
      "outputs": [
        {
          "output_type": "stream",
          "name": "stdout",
          "text": [
            "Output volume shape : (10,)\n",
            "Number of paramaters : 210\n"
          ]
        }
      ],
      "source": [
        "output_volume_shape = (10,)\n",
        "number_of_parameters = (20 + 1) * 10\n",
        "\n",
        "print(f\"Output volume shape : {output_volume_shape}\")\n",
        "print(f\"Number of paramaters : {number_of_parameters}\")"
      ],
      "id": "7d295d0b"
    },
    {
      "cell_type": "markdown",
      "metadata": {
        "id": "006d453f"
      },
      "source": [
        "### Part 1.2"
      ],
      "id": "006d453f"
    },
    {
      "cell_type": "markdown",
      "metadata": {
        "id": "61eceeee"
      },
      "source": [
        "v = w1*x1 + w2*x2 + w3*x3\n",
        "\n",
        "Output : 1 if v >= 0 and 0 otherwise\n",
        "\n",
        "Ix = (x1,x2,x3)\n",
        "\n",
        "W = (3,-5, 2)"
      ],
      "id": "61eceeee"
    },
    {
      "cell_type": "code",
      "execution_count": null,
      "metadata": {
        "id": "31c55f71"
      },
      "outputs": [],
      "source": [
        "def calculate_output(Ix,W):\n",
        "    v = 0\n",
        "    for x , w in zip(Ix,W):\n",
        "        v += x * w\n",
        "    if v >= 0:\n",
        "        print(\"Output is 1\")\n",
        "        return 1\n",
        "    else:\n",
        "        print(\"Output is 0\")\n",
        "        return 0"
      ],
      "id": "31c55f71"
    },
    {
      "cell_type": "code",
      "execution_count": null,
      "metadata": {
        "id": "12ce657e"
      },
      "outputs": [],
      "source": [
        "W = (3, -5, 2)"
      ],
      "id": "12ce657e"
    },
    {
      "cell_type": "code",
      "execution_count": null,
      "metadata": {
        "colab": {
          "base_uri": "https://localhost:8080/"
        },
        "id": "b73ecb1d",
        "outputId": "1768cd0a-d78e-4de2-896c-c02dd3162cb1"
      },
      "outputs": [
        {
          "output_type": "stream",
          "name": "stdout",
          "text": [
            "Output is 1\n"
          ]
        }
      ],
      "source": [
        "I1 = (1, 0, 0)\n",
        "\n",
        "output = calculate_output(I1,W)"
      ],
      "id": "b73ecb1d"
    },
    {
      "cell_type": "code",
      "execution_count": null,
      "metadata": {
        "colab": {
          "base_uri": "https://localhost:8080/"
        },
        "id": "504dd1df",
        "outputId": "c6e917c7-22f5-4d50-e21b-a6f62baf191f"
      },
      "outputs": [
        {
          "output_type": "stream",
          "name": "stdout",
          "text": [
            "Output is 0\n"
          ]
        }
      ],
      "source": [
        "I2 = (0, 1, 1)\n",
        "\n",
        "output = calculate_output(I2,W)"
      ],
      "id": "504dd1df"
    },
    {
      "cell_type": "code",
      "execution_count": null,
      "metadata": {
        "colab": {
          "base_uri": "https://localhost:8080/"
        },
        "id": "935afe26",
        "outputId": "6102ad50-c2cb-4c5e-ce23-b99c3103ffdd"
      },
      "outputs": [
        {
          "output_type": "stream",
          "name": "stdout",
          "text": [
            "Output is 1\n"
          ]
        }
      ],
      "source": [
        "I3 = (1, 0, 1)\n",
        "\n",
        "output = calculate_output(I3,W)"
      ],
      "id": "935afe26"
    },
    {
      "cell_type": "code",
      "execution_count": null,
      "metadata": {
        "colab": {
          "base_uri": "https://localhost:8080/"
        },
        "id": "cf090646",
        "outputId": "a0841ac3-4c9e-4fa2-b2c8-a66c4f67c7ca"
      },
      "outputs": [
        {
          "output_type": "stream",
          "name": "stdout",
          "text": [
            "Output is 1\n"
          ]
        }
      ],
      "source": [
        "I4 = (1, 1, 1)\n",
        "\n",
        "output = calculate_output(I4,W)"
      ],
      "id": "cf090646"
    },
    {
      "cell_type": "markdown",
      "metadata": {
        "id": "acbc76d9"
      },
      "source": [
        "### Part 1.3"
      ],
      "id": "acbc76d9"
    },
    {
      "cell_type": "markdown",
      "metadata": {
        "id": "c0c1f6a1"
      },
      "source": [
        "Neural Network has:\n",
        "\n",
        "3 Input Layers\n",
        "\n",
        "5 neurons in 1st hidden layer\n",
        "\n",
        "3 neurons in 2nd hidden layer\n",
        "\n",
        "2 output layers"
      ],
      "id": "c0c1f6a1"
    },
    {
      "cell_type": "markdown",
      "metadata": {
        "id": "873f502d"
      },
      "source": [
        "Number of Weights = Number of Neurons in Previous Layer * Number of Neurons in Current Layer"
      ],
      "id": "873f502d"
    },
    {
      "cell_type": "markdown",
      "metadata": {
        "id": "b0489218"
      },
      "source": [
        "Weights in 1st hidden layer = 3 * 5 = 15\n",
        "\n",
        "Weights in 2nd hidden layer = 5 * 3 = 15\n",
        "\n",
        "Weights in output layer = 3 * 2 = 6\n",
        "\n",
        "If we sum it up we get 15 + 15 + 6 = 36 weight variables the network has in total.\n"
      ],
      "id": "b0489218"
    },
    {
      "cell_type": "markdown",
      "metadata": {
        "id": "542bd76c"
      },
      "source": [
        "#### If we consider the network fully connected:\n",
        "\n",
        "Number of Weights = (Number of Neurons in Previous Layer + 1) * Number of Neurons in Current Layer"
      ],
      "id": "542bd76c"
    },
    {
      "cell_type": "markdown",
      "metadata": {
        "id": "740f5abe"
      },
      "source": [
        "Weights in 1st hidden layer = (3+1) * 5 = 20\n",
        "\n",
        "Weights in 2nd hidden layer = (5+1) * 3 = 18\n",
        "\n",
        "Weights in output layer = (3+1) * 2 = 8\n",
        "\n",
        "If we sum it up we get 20 + 18 + 8 = 46 weight variables the network has in total if it is fully connected."
      ],
      "id": "740f5abe"
    },
    {
      "cell_type": "markdown",
      "metadata": {
        "id": "ba033505"
      },
      "source": [
        "To describe the dependency information for nodes in a neural network, we can specify the connections between nodes in both the forward and backward (backpropagation) passes. In a fully connected feedforward neural network, each node in a layer is connected to every node in the previous layer.\n",
        "\n",
        "In forward pass,\n",
        "\n",
        "All neurons in 1st hidden layer depends on the values on input layers.\n",
        "\n",
        "All neurons in 2nd hidden layer depends on the values on 1st hidden layer.\n",
        "\n",
        "All values in putput layer depends on neurons on 2nd hidden layer.\n",
        "\n",
        "In backward pass, (Backpropogation)\n",
        "\n",
        "Input layer depends on the partial derivatives of the neurons in 1st hidden layer with respect to the loss function.\n",
        "\n",
        "1st hidden layer depends on the partial derivatives of the neurons in 2nd hidden layer with respect to the loss function.\n",
        "\n",
        "2nd hidden layer depends on the partial derivatives of the values in output layer with respect to the loss function.\n",
        "\n",
        "\n",
        "That being said, this means input layer depends on the all the weights in the network, 1st hidden layer depends on all values except the input layer and so on. This is the logic of back propogation."
      ],
      "id": "ba033505"
    },
    {
      "cell_type": "markdown",
      "metadata": {
        "id": "e8ec2d29"
      },
      "source": [
        "## PART 2 : CLASSIFICATION OF MEL SPECTOGRAM IMAGES USING NEURAL NETWORK"
      ],
      "id": "e8ec2d29"
    },
    {
      "cell_type": "markdown",
      "source": [
        "### Preprocess the data"
      ],
      "metadata": {
        "id": "DECoGDDYON6H"
      },
      "id": "DECoGDDYON6H"
    },
    {
      "cell_type": "markdown",
      "metadata": {
        "id": "1be85084"
      },
      "source": [
        "Import necessary libraries"
      ],
      "id": "1be85084"
    },
    {
      "cell_type": "code",
      "execution_count": null,
      "metadata": {
        "id": "9fa6f9c7"
      },
      "outputs": [],
      "source": [
        "from PIL import Image\n",
        "import matplotlib.pyplot as plt\n",
        "import numpy as np\n",
        "import pandas as pd\n",
        "import tensorflow as tf\n",
        "from tensorflow.keras import datasets, layers, models, optimizers\n",
        "import os\n",
        "from google.colab import drive\n",
        "import zipfile\n",
        "from sklearn.preprocessing import OneHotEncoder"
      ],
      "id": "9fa6f9c7"
    },
    {
      "cell_type": "markdown",
      "source": [
        "Access the dataset"
      ],
      "metadata": {
        "id": "raGGoc2C1NZh"
      },
      "id": "raGGoc2C1NZh"
    },
    {
      "cell_type": "code",
      "execution_count": null,
      "metadata": {
        "colab": {
          "base_uri": "https://localhost:8080/"
        },
        "id": "_cD-47BDjeu_",
        "outputId": "68fbe709-f222-46ba-da97-04f628fe7547"
      },
      "outputs": [
        {
          "output_type": "stream",
          "name": "stdout",
          "text": [
            "Mounted at /content/drive\n"
          ]
        }
      ],
      "source": [
        "drive.mount('/content/drive')\n",
        "root = '/content/extracted_files/voice_dataset'"
      ],
      "id": "_cD-47BDjeu_"
    },
    {
      "cell_type": "code",
      "execution_count": null,
      "metadata": {
        "id": "Aay9oGooiPtz"
      },
      "outputs": [],
      "source": [
        "with zipfile.ZipFile('/content/drive/MyDrive/Colab Notebooks/dataset_a3.zip', 'r') as zip_file:\n",
        "  zip_file.extractall('/content/extracted_files')"
      ],
      "id": "Aay9oGooiPtz"
    },
    {
      "cell_type": "code",
      "execution_count": null,
      "metadata": {
        "id": "41741c7e"
      },
      "outputs": [],
      "source": [
        "train = pd.read_csv(os.path.join(root,'train_data.csv'))\n",
        "test = pd.read_csv(os.path.join(root,'test_data.csv'))"
      ],
      "id": "41741c7e"
    },
    {
      "cell_type": "markdown",
      "source": [
        "Encode 'Age' column using One Hot Encoding\n"
      ],
      "metadata": {
        "id": "HtVp81071gft"
      },
      "id": "HtVp81071gft"
    },
    {
      "cell_type": "code",
      "source": [
        "# Get dummies for age column\n",
        "train_age_dummies = pd.get_dummies(train['age'])\n",
        "test_age_dummies = pd.get_dummies(test['age'])\n",
        "# Drop the original column\n",
        "train = train.drop(['age'], axis = 1)\n",
        "test = test.drop(['age'], axis = 1)\n",
        "# Add new columns\n",
        "train = pd.concat([train, train_age_dummies], axis = 1)\n",
        "test = pd.concat([test, test_age_dummies], axis = 1)"
      ],
      "metadata": {
        "id": "QX01Qfkty3Tq"
      },
      "id": "QX01Qfkty3Tq",
      "execution_count": null,
      "outputs": []
    },
    {
      "cell_type": "markdown",
      "metadata": {
        "id": "dea35c66"
      },
      "source": [
        "Split the dataset into train and test"
      ],
      "id": "dea35c66"
    },
    {
      "cell_type": "code",
      "execution_count": null,
      "metadata": {
        "id": "82f63d7e"
      },
      "outputs": [],
      "source": [
        "# Train - test split, also drop all columns except filename and age\n",
        "train_labels = train.drop(['filename','text','gender','accent'], axis = 1)\n",
        "train_images = train['filename']\n",
        "\n",
        "test_labels = test.drop(['filename','text','gender','accent'], axis = 1)\n",
        "test_images = test['filename']"
      ],
      "id": "82f63d7e"
    },
    {
      "cell_type": "markdown",
      "source": [
        "Define a function that grayscales the image"
      ],
      "metadata": {
        "id": "HhkTKUCMw5j_"
      },
      "id": "HhkTKUCMw5j_"
    },
    {
      "cell_type": "code",
      "source": [
        "def rgba_to_grayscale(image):\n",
        "  # Extract the color channels (R, G, B, A)\n",
        "  r, g, b, a = image[:, :, 0], image[:, :, 1], image[:, :, 2], image[:, :, 3]\n",
        "\n",
        "  # Convert to grayscale using the luminosity method\n",
        "  grayscale_intensity = 0.299 * r + 0.587 * g + 0.114 * b\n",
        "\n",
        "  # Stack the grayscale intensity to create a single-channel image\n",
        "  grayscale_image = np.stack([grayscale_intensity], axis=-1)\n",
        "\n",
        "  return grayscale_image"
      ],
      "metadata": {
        "id": "ElSKkPx89Tir"
      },
      "id": "ElSKkPx89Tir",
      "execution_count": null,
      "outputs": []
    },
    {
      "cell_type": "markdown",
      "metadata": {
        "id": "49737d94"
      },
      "source": [
        "Define a function that returns the array of pixels of the corresponding image after resizing, normalizing and grayscaling it"
      ],
      "id": "49737d94"
    },
    {
      "cell_type": "code",
      "execution_count": null,
      "metadata": {
        "id": "fdcf0b48"
      },
      "outputs": [],
      "source": [
        "def filename_to_pixel_array(filename,dataset):\n",
        "    if dataset == 'train':\n",
        "        image = Image.open(os.path.join(root,'train/' + filename)) # 775,308\n",
        "        #resize\n",
        "        new_size = (32,32)\n",
        "        image = image.resize(new_size)\n",
        "\n",
        "        image_array = np.array(image)\n",
        "        #gray-scale - made it run really faster\n",
        "        image_array = rgba_to_grayscale(image_array)\n",
        "        #normalize\n",
        "        image_array = image_array / 255.0\n",
        "\n",
        "        return image_array\n",
        "    elif dataset == 'test':\n",
        "        image = Image.open(os.path.join(root,'test/'+ filename))\n",
        "        #resize\n",
        "        new_size = (32,32)\n",
        "        image = image.resize(new_size)\n",
        "        image_array = np.array(image)\n",
        "        #gray-scale\n",
        "        image_array = rgba_to_grayscale(image_array)\n",
        "        #normalize\n",
        "        image_array = image_array / 255.0\n",
        "\n",
        "        return image_array"
      ],
      "id": "fdcf0b48"
    },
    {
      "cell_type": "markdown",
      "metadata": {
        "id": "46528607"
      },
      "source": [
        "Replace 'filename' column with the pixel array representations of the corresponding files"
      ],
      "id": "46528607"
    },
    {
      "cell_type": "code",
      "execution_count": null,
      "metadata": {
        "id": "4d242daf"
      },
      "outputs": [],
      "source": [
        "num_images = len(train_images)\n",
        "# Initialize a empty array to hold pixels\n",
        "arrays_train = np.empty((num_images, 32, 32, 1), dtype=np.float64)\n",
        "\n",
        "for index_count, filename in enumerate(train_images):\n",
        "  # Add the returned arrays to the initialized array\n",
        "    arrays_train[index_count] = filename_to_pixel_array(filename, 'train')"
      ],
      "id": "4d242daf"
    },
    {
      "cell_type": "code",
      "execution_count": null,
      "metadata": {
        "id": "380ad011"
      },
      "outputs": [],
      "source": [
        "num_images_test = len(test_images)\n",
        "\n",
        "arrays_test = np.empty((num_images_test, 32, 32, 1), dtype=np.float64)\n",
        "\n",
        "for index_count, filename in enumerate(test_images):\n",
        "    arrays_test[index_count] = filename_to_pixel_array(filename, 'test')"
      ],
      "id": "380ad011"
    },
    {
      "cell_type": "markdown",
      "metadata": {
        "id": "c9b32994"
      },
      "source": [
        "### Implement a n-hidden layer neural network"
      ],
      "id": "c9b32994"
    },
    {
      "cell_type": "markdown",
      "source": [
        "Reformat the data to fit into the model"
      ],
      "metadata": {
        "id": "4YmlPDOVxTHg"
      },
      "id": "4YmlPDOVxTHg"
    },
    {
      "cell_type": "code",
      "source": [
        "arrays_train_mlp = arrays_train.reshape(9600,1024) # 32 * 32 = 1024\n",
        "arrays_test_mlp = arrays_test.reshape(2400,1024)\n",
        "train_labels_mlp = train_labels.to_numpy()\n",
        "test_labels_mlp = test_labels.to_numpy()"
      ],
      "metadata": {
        "id": "uKMeDznqKWgD"
      },
      "id": "uKMeDznqKWgD",
      "execution_count": null,
      "outputs": []
    },
    {
      "cell_type": "code",
      "source": [
        "def ReLU(z):\n",
        "    return np.maximum(0, z)\n",
        "\n",
        "def relu_derivative(z):\n",
        "    return np.where(z > 0, 1, 0)\n",
        "\n",
        "def tanh(x):\n",
        "    return np.tanh(x)\n",
        "\n",
        "def tanh_derivative(x):\n",
        "    # Derivative of tanh function: sech^2(x)\n",
        "    return 1.0 - np.tanh(x)**2\n",
        "\n",
        "def negative_log_likelihood(y_true, y_pred):\n",
        "  epsilon = 1e-15\n",
        "  y_pred = np.clip(y_pred, epsilon, 1 - epsilon)\n",
        "  return -np.sum(y_true * np.log(y_pred)) / len(y_true)"
      ],
      "metadata": {
        "id": "UPnvkCQqBeue"
      },
      "id": "UPnvkCQqBeue",
      "execution_count": null,
      "outputs": []
    },
    {
      "cell_type": "code",
      "source": [
        "class MLP:\n",
        "    def __init__(self, num_layers, input_size, hidden_sizes, output_size, acc_func, acc_func_derv, learning_rate=0.01, epochs=10, batch_size = 192):\n",
        "        self.input_size = input_size\n",
        "        self.num_layers = num_layers\n",
        "        self.sizes = hidden_sizes\n",
        "        self.sizes.insert(0, input_size)\n",
        "        self.sizes.append(output_size)\n",
        "        self.output_size = output_size\n",
        "        self.acc_func = acc_func\n",
        "        self.acc_func_derv = acc_func_derv\n",
        "        self.learning_rate = learning_rate\n",
        "        self.epochs = epochs\n",
        "        self.batch_size = batch_size\n",
        "        self.weights = [np.random.randn(self.sizes[i], self.sizes[i + 1]) for i in range(num_layers + 1)] # Randomly initialize weights\n",
        "        self.bias = [np.zeros((1, self.sizes[i + 1])) for i in range(num_layers + 1)] # Initialize biases to zero\n",
        "        self.activations = [] # Array that holds every activation function output on every step in neural network\n",
        "        self.passes = [] # Array that holds every layer output in every step\n",
        "        self.loss = 0\n",
        "\n",
        "    def forward_pass(self, X):\n",
        "        self.activations.append(X)\n",
        "        for step in range(self.num_layers + 1):\n",
        "            pass1 = X.dot(self.weights[step]) + self.bias[step]\n",
        "            self.passes.append(pass1)\n",
        "\n",
        "            activation = self.acc_func(pass1)\n",
        "            self.activations.append(activation)\n",
        "            X = activation\n",
        "        return activation\n",
        "\n",
        "    def backward_pass(self, y):\n",
        "        error = self.activations[-1] - y\n",
        "        for step in range(self.num_layers, -1, -1):\n",
        "            d_weights = self.activations[step].T.dot(error * self.acc_func_derv(self.passes[step]))\n",
        "            d_bias = np.sum(error * self.acc_func_derv(self.passes[step]), axis=0, keepdims=True)\n",
        "            error = error.dot(self.weights[step].T)\n",
        "\n",
        "            self.weights[step] -= self.learning_rate * d_weights\n",
        "            self.bias[step] -= self.learning_rate * d_bias\n",
        "\n",
        "    def calculate_loss(self, y_true, y_pred):\n",
        "        return negative_log_likelihood(y_true, y_pred)\n",
        "\n",
        "    def fit(self, X, y):\n",
        "        num_samples = X.shape[0]\n",
        "        outer_losses = []\n",
        "        for epoch in range(self.epochs):\n",
        "            inner_losses = []\n",
        "            for batch_start in range(0, num_samples, self.batch_size):\n",
        "                batch_end = min(batch_start + self.batch_size, num_samples)\n",
        "\n",
        "                X_batch = X[batch_start:batch_end]\n",
        "                y_batch = y[batch_start:batch_end]\n",
        "                y_pred = self.forward_pass(X_batch)\n",
        "\n",
        "                inner_losses.append(self.calculate_loss(y_batch, y_pred))\n",
        "\n",
        "                self.backward_pass(y_batch)\n",
        "            outer_losses.append(np.mean(inner_losses)) #Mean of the losses for each batch\n",
        "            print(f'Epoch {epoch+1}/{self.epochs}, Loss: {np.mean(inner_losses)}')\n",
        "        self.loss = np.mean(outer_losses) # Mean of the losses for each epcoh\n",
        "    def predict(self, X):\n",
        "        return self.forward_pass(X)"
      ],
      "metadata": {
        "id": "fzRlqAF-t58d"
      },
      "id": "fzRlqAF-t58d",
      "execution_count": null,
      "outputs": []
    },
    {
      "cell_type": "code",
      "source": [
        "def create_mlp(num_layers, input_size, hidden_sizes, output_size, acc_f, acc_f_derv,learning_rate, epochs, batch_size,X_train,y_train,X_test,y_test):\n",
        "  mlp = MLP(num_layers, input_size, hidden_sizes, output_size,acc_f,acc_f_derv,learning_rate, epochs, batch_size)\n",
        "  mlp.fit(X_train,y_train)\n",
        "\n",
        "  y_pred = mlp.predict(X_test)\n",
        "\n",
        "  acc = np.mean(y_pred == y_test)\n",
        "  print(f\"Accuracy: {acc:.2f}\")\n",
        "  print(f\"Mean Loss: {mlp.loss:.2f}\")"
      ],
      "metadata": {
        "id": "aFUm1QmvS-eK"
      },
      "id": "aFUm1QmvS-eK",
      "execution_count": null,
      "outputs": []
    },
    {
      "cell_type": "markdown",
      "source": [
        "Tests are done with this lines of code: (Can be run again)"
      ],
      "metadata": {
        "id": "WYetPaMswD-I"
      },
      "id": "WYetPaMswD-I"
    },
    {
      "cell_type": "code",
      "source": [
        "create_mlp(0,1024,[],6,ReLU,relu_derivative,0.1,10,192,arrays_train_mlp,train_labels_mlp,arrays_test_mlp,test_labels_mlp) # 0 Layer with ReLU\n",
        "print()\n",
        "create_mlp(0,1024,[],6,tanh,tanh_derivative,0.1,10,192,arrays_train_mlp,train_labels_mlp,arrays_test_mlp,test_labels_mlp) # 0 Layer with tanh\n",
        "print()\n",
        "create_mlp(1,1024,[2],6,ReLU,relu_derivative,0.1,10,192,arrays_train_mlp,train_labels_mlp,arrays_test_mlp,test_labels_mlp) # 1 Layer with ReLU\n",
        "print()\n",
        "create_mlp(1,1024,[2],6,tanh,tanh_derivative,0.1,10,192,arrays_train_mlp,train_labels_mlp,arrays_test_mlp,test_labels_mlp) # 1 Layer with tanh\n",
        "print()\n",
        "create_mlp(2,1024,[2,2],6,ReLU,relu_derivative,0.1,10,192,arrays_train_mlp,train_labels_mlp,arrays_test_mlp,test_labels_mlp) # 2 Layer with size 2 with ReLU\n",
        "print()\n",
        "create_mlp(2,1024,[3,3],6,ReLU,relu_derivative,0.1,10,192,arrays_train_mlp,train_labels_mlp,arrays_test_mlp,test_labels_mlp) # 2 Layer with size 3 with ReLU\n",
        "print()\n",
        "create_mlp(2,1024,[3,3],6,ReLU,relu_derivative,0.5,10,192,arrays_train_mlp,train_labels_mlp,arrays_test_mlp,test_labels_mlp) # 2 Layer with size 3 with 0.08 learning rate\n",
        "print()\n",
        "create_mlp(2,1024,[3,3],6,ReLU,relu_derivative,0.5,10,96,arrays_train_mlp,train_labels_mlp,arrays_test_mlp,test_labels_mlp) # 2 Layer with size 3 with 0.08 learning rate, 96 batch_size"
      ],
      "metadata": {
        "colab": {
          "base_uri": "https://localhost:8080/"
        },
        "id": "3b-aZkJ6DAfO",
        "outputId": "b786e555-ef4d-46ec-82aa-bf9193cd1dd1"
      },
      "id": "3b-aZkJ6DAfO",
      "execution_count": null,
      "outputs": [
        {
          "output_type": "stream",
          "name": "stdout",
          "text": [
            "Epoch 1/10, Loss: 32.57104422623401\n",
            "Epoch 2/10, Loss: 33.757595443348116\n",
            "Epoch 3/10, Loss: 34.364209131761385\n",
            "Epoch 4/10, Loss: 33.233299777677445\n",
            "Epoch 5/10, Loss: 33.50952473826137\n",
            "Epoch 6/10, Loss: 33.9208486921551\n",
            "Epoch 7/10, Loss: 34.00980133924417\n",
            "Epoch 8/10, Loss: 34.364209131761385\n",
            "Epoch 9/10, Loss: 33.71582595695162\n",
            "Epoch 10/10, Loss: 34.364209131761385\n",
            "Accuracy: 0.83\n",
            "Mean Loss: 33.78\n",
            "\n",
            "Epoch 1/10, Loss: 7.15890486415796\n",
            "Epoch 2/10, Loss: 9.359298003885819\n",
            "Epoch 3/10, Loss: 7.543127776367665\n",
            "Epoch 4/10, Loss: 7.772532080550174\n",
            "Epoch 5/10, Loss: 7.326293427942001\n",
            "Epoch 6/10, Loss: 8.721962116349006\n",
            "Epoch 7/10, Loss: 8.75665753622015\n",
            "Epoch 8/10, Loss: 8.63419667385676\n",
            "Epoch 9/10, Loss: 7.630604168952577\n",
            "Epoch 10/10, Loss: 7.07717499166677\n",
            "Accuracy: 0.08\n",
            "Mean Loss: 8.00\n",
            "\n",
            "Epoch 1/10, Loss: 29.47326105677452\n",
            "Epoch 2/10, Loss: 31.031133510205173\n",
            "Epoch 3/10, Loss: 31.15082240033089\n",
            "Epoch 4/10, Loss: 30.252308654335717\n",
            "Epoch 5/10, Loss: 30.22142934554685\n",
            "Epoch 6/10, Loss: 29.6587785640553\n",
            "Epoch 7/10, Loss: 30.503974486657963\n",
            "Epoch 8/10, Loss: 25.95956688625849\n",
            "Epoch 9/10, Loss: 30.7408497846507\n",
            "Epoch 10/10, Loss: 29.668166001472837\n",
            "Accuracy: 0.83\n",
            "Mean Loss: 29.87\n",
            "\n",
            "Epoch 1/10, Loss: 15.726786538871416\n",
            "Epoch 2/10, Loss: 13.808879140823233\n",
            "Epoch 3/10, Loss: 12.896707025963876\n",
            "Epoch 4/10, Loss: 13.585266251030003\n",
            "Epoch 5/10, Loss: 13.355001495530336\n",
            "Epoch 6/10, Loss: 15.657578632512289\n",
            "Epoch 7/10, Loss: 13.18591116100431\n",
            "Epoch 8/10, Loss: 14.621415343640269\n",
            "Epoch 9/10, Loss: 15.427320132414327\n",
            "Epoch 10/10, Loss: 14.276027582652036\n",
            "Accuracy: 0.00\n",
            "Mean Loss: 14.25\n",
            "\n",
            "Epoch 1/10, Loss: 31.089033029167513\n",
            "Epoch 2/10, Loss: 32.81183757516515\n",
            "Epoch 3/10, Loss: 30.43866519002712\n",
            "Epoch 4/10, Loss: 34.538776394910684\n",
            "Epoch 5/10, Loss: 31.79488651042665\n",
            "Epoch 6/10, Loss: 31.948368165292383\n",
            "Epoch 7/10, Loss: 31.435541269971523\n",
            "Epoch 8/10, Loss: 33.44504847573851\n",
            "Epoch 9/10, Loss: 31.220640364119955\n",
            "Epoch 10/10, Loss: 33.67530698503791\n",
            "Accuracy: 0.83\n",
            "Mean Loss: 32.24\n",
            "\n",
            "Epoch 1/10, Loss: 26.983275640185507\n",
            "Epoch 2/10, Loss: 29.092465804379486\n",
            "Epoch 3/10, Loss: 29.092328474501645\n",
            "Epoch 4/10, Loss: 27.710776712392224\n",
            "Epoch 5/10, Loss: 29.092327764548514\n",
            "Epoch 6/10, Loss: 27.710776708733327\n",
            "Epoch 7/10, Loss: 27.714004160796712\n",
            "Epoch 8/10, Loss: 27.710776708733228\n",
            "Epoch 9/10, Loss: 28.74694000058055\n",
            "Epoch 10/10, Loss: 28.401552236631442\n",
            "Accuracy: 0.69\n",
            "Mean Loss: 28.23\n",
            "\n",
            "Epoch 1/10, Loss: 29.74641759521048\n",
            "Epoch 2/10, Loss: 32.293755929241485\n",
            "Epoch 3/10, Loss: 29.879097316621856\n",
            "Epoch 4/10, Loss: 30.566817109495954\n",
            "Epoch 5/10, Loss: 29.893743382705924\n",
            "Epoch 6/10, Loss: 29.61111126423714\n",
            "Epoch 7/10, Loss: 31.487851146693576\n",
            "Epoch 8/10, Loss: 30.584924972122508\n",
            "Epoch 9/10, Loss: 31.418586802406015\n",
            "Epoch 10/10, Loss: 32.466449811216044\n",
            "Accuracy: 0.83\n",
            "Mean Loss: 30.79\n",
            "\n",
            "Epoch 1/10, Loss: 33.502613103063354\n",
            "Epoch 2/10, Loss: 34.193388630961564\n",
            "Epoch 3/10, Loss: 34.193388630961564\n",
            "Epoch 4/10, Loss: 34.193388630961564\n",
            "Epoch 5/10, Loss: 33.502613103063354\n",
            "Epoch 6/10, Loss: 33.84800086701246\n",
            "Epoch 7/10, Loss: 33.51136063717976\n",
            "Epoch 8/10, Loss: 34.193388630961564\n",
            "Epoch 9/10, Loss: 34.193388630961564\n",
            "Epoch 10/10, Loss: 33.84800086701246\n",
            "Accuracy: 0.83\n",
            "Mean Loss: 33.92\n"
          ]
        }
      ]
    },
    {
      "cell_type": "markdown",
      "source": [
        "To run this data needs to be reformatted again:"
      ],
      "metadata": {
        "id": "FlR-2-F_wKAU"
      },
      "id": "FlR-2-F_wKAU"
    },
    {
      "cell_type": "code",
      "source": [
        "create_mlp(2,4096,[3,3],6,ReLU,relu_derivative,0.08,10,192,arrays_train,train_labels,arrays_test,test_labels) # 2 Layer with size 3 with 0.08 learning rate, with 64*64 input size,"
      ],
      "metadata": {
        "id": "RqGC4TeDwHfJ"
      },
      "id": "RqGC4TeDwHfJ",
      "execution_count": null,
      "outputs": []
    },
    {
      "cell_type": "markdown",
      "source": [
        "Here is the table of evaluation for each fit."
      ],
      "metadata": {
        "id": "04MOqVuRrWTi"
      },
      "id": "04MOqVuRrWTi"
    },
    {
      "cell_type": "markdown",
      "source": [
        "| Experiment | Input Size | Activation Function | Number of Layers | Hidden Layer Size | Learning Rate | Batch Size | Mean Loss | Accuracy |\n",
        "|------------|------------|----------------------|-------------------|---------------------|----------------|------------|-----------|----------|\n",
        "| 1          | 32x32x1    | ReLU                 | 0                 | 0                   | 0.1           | 192        | 33.78    | 0.83     |\n",
        "| 2          | 32x32x1    | tanh                 | 0                 | 0                   | 0.1           | 192        | 8.00      | 0.08     |\n",
        "| 3          | 32x32x1    | ReLU                 | 1                 | 2                   | 0.1           | 192        | 23.87     | 0.83     |\n",
        "| 4          | 32x32x1    | tanh                 | 1                 | 2                   | 0.1           | 192        | 14.25    | 0.06    |\n",
        "| 5          | 32x32x1    | ReLU                 | 2                 | 2                   | 0.1           | 192        | 32.24     | 0.83     |\n",
        "| 6          | 32x32x1    | ReLU                 | 2                 | 3                   | 0.1           | 192        | 28.23    | 0.69     |\n",
        "| 7          | 32x32x1    | ReLU                 | 2                 | 3                   | 0.1           | 192        | 30.79     | 0.83     |\n",
        "| 8          | 32x32x1    | ReLU                 | 2                 | 3                   | 0.5           | 96         | 34.22     | 0.83     |\n",
        "| 9          | 64x64x1    | ReLU                 | 2                 | 3                   | 0.5           | 192        | 33.92     | 0.83     |\n"
      ],
      "metadata": {
        "id": "ZkzpZjmbrF5D"
      },
      "id": "ZkzpZjmbrF5D"
    },
    {
      "cell_type": "markdown",
      "source": [
        "#### Observation for MLP:\n",
        "\n",
        "#### Activation Function:\n",
        "\n",
        "ReLU greatly outperforms tanh in all cases.\n",
        "#### Hidden Layers:\n",
        "\n",
        "Adding second hidden layer doesn't always boost performance.\n",
        "\n",
        "Larger hidden layers enhance model performance.\n",
        "\n",
        "Experiment 6 with size 3 shows notable improvement.\n",
        "\n",
        "#### Learning Rate and Batch Size:\n",
        "\n",
        "Experiment 7, with higher learning rate and batch size, performs well.\n",
        "\n",
        "#### Input Size:\n",
        "\n",
        "Experiment 9 with a larger input size has minimal impact on model.\n",
        "\n",
        "#### Conclusion:\n",
        "\n",
        "ReLU, appropriate hidden layer size, and tuned hyperparameters yield better performance.\n",
        "\n",
        "Experiment 7 achieves the highest accuracy with lowest loss.\n",
        "\n",
        "Fine-tuning hyperparameters can enhance performance even more. But in this form, it can be concluded that data overfits to the model."
      ],
      "metadata": {
        "id": "_yZmWSxYsH9m"
      },
      "id": "_yZmWSxYsH9m"
    },
    {
      "cell_type": "markdown",
      "source": [
        "### Implement CNN on the images of the dataset"
      ],
      "metadata": {
        "id": "CFmFywd3K3xW"
      },
      "id": "CFmFywd3K3xW"
    },
    {
      "cell_type": "markdown",
      "source": [
        "CNN with n-Convolutional layer and n-Fully connected layer"
      ],
      "metadata": {
        "id": "8ddGhCaCdYst"
      },
      "id": "8ddGhCaCdYst"
    },
    {
      "cell_type": "code",
      "source": [
        "def create_fit_cnn(n, X_train, y_train, X_test, y_test, epochs, batch_size,activation):\n",
        "    model_cnn = models.Sequential()\n",
        "\n",
        "    for i in range(n):\n",
        "      # Construct the model\n",
        "      if i == 0:\n",
        "        input_shape = (32, 32, 1)\n",
        "        model_cnn.add(layers.Conv2D(32, (3, 3), activation=activation, input_shape=input_shape))\n",
        "      else:\n",
        "        model_cnn.add(layers.Conv2D(32, (3, 3), activation=activation))\n",
        "        model_cnn.add(layers.MaxPooling2D(3, 3))\n",
        "\n",
        "\n",
        "    model_cnn.add(layers.Flatten())\n",
        "    model_cnn.add(layers.Dense(128, activation=activation))\n",
        "    model_cnn.add(layers.Dense(6, activation='softmax'))\n",
        "                      optimizer='adam',\n",
        "                      metrics=['accuracy'])\n",
        "    # Evaluate the model\n",
        "    history = model_cnn.fit(X_train, y_train, epochs=epochs, batch_size=batch_size, validation_data=(X_test, y_test))\n",
        "    test_loss, test_acc = model_cnn.evaluate(arrays_test,  test_labels, verbose=2)\n",
        "    # Visualize the model\n",
        "    plt.plot(history.history['accuracy'], label='accuracy')\n",
        "    plt.plot(history.history['val_accuracy'], label = 'val_accuracy')\n",
        "    plt.title(\"Accuracies\")\n",
        "    plt.xlabel('Epoch')\n",
        "    plt.ylabel('Accuracy')\n",
        "\n",
        "    plt.show()\n",
        "    return test_loss, test_acc, model_cnn"
      ],
      "metadata": {
        "id": "BRGtpFnnCwmU"
      },
      "id": "BRGtpFnnCwmU",
      "execution_count": null,
      "outputs": []
    },
    {
      "cell_type": "markdown",
      "source": [
        "Tests are done with this lines of code: (Can be run again)"
      ],
      "metadata": {
        "id": "d7_SGpqDaeC0"
      },
      "id": "d7_SGpqDaeC0"
    },
    {
      "cell_type": "code",
      "source": [
        "test_loss_1, test_acc_1, model_cnn_1 = create_fit_cnn(1, arrays_train, train_labels, arrays_test, test_labels, 10, 192, 'relu')\n",
        "print(f\"Test loss is {test_loss_1} and test accuracy is {test_acc_1}\")\n",
        "test_loss_2, test_acc_2, model_cnn_2 = create_fit_cnn(1, arrays_train, train_labels, arrays_test, test_labels, 10, 192, 'tanh')\n",
        "print(f\"Test loss is {test_loss_2} and test accuracy is {test_acc_2}\")\n",
        "test_loss_3, test_acc_3, model_cnn_3 = create_fit_cnn(2, arrays_train, train_labels, arrays_test, test_labels, 10, 192, 'relu')\n",
        "print(f\"Test loss is {test_loss_3} and test accuracy is {test_acc_3}\")\n",
        "test_loss_4, test_acc_4, model_cnn_4 = create_fit_cnn(2, arrays_train, train_labels, arrays_test, test_labels, 10, 192, 'tanh')\n",
        "print(f\"Test loss is {test_loss_4} and test accuracy is {test_acc_4}\")\n",
        "test_loss_5, test_acc_5, model_cnn_5 = create_fit_cnn(2, arrays_train, train_labels, arrays_test, test_labels, 10, 96, 'relu')\n",
        "print(f\"Test loss is {test_loss_5} and test accuracy is {test_acc_5}\")"
      ],
      "metadata": {
        "colab": {
          "base_uri": "https://localhost:8080/",
          "height": 1000
        },
        "id": "dz_3pIndHyFC",
        "outputId": "af7bdf2b-1244-45ba-ee29-4b6470955002"
      },
      "id": "dz_3pIndHyFC",
      "execution_count": null,
      "outputs": [
        {
          "output_type": "stream",
          "name": "stdout",
          "text": [
            "Epoch 1/10\n",
            "50/50 [==============================] - 12s 186ms/step - loss: 1.7924 - accuracy: 0.2016 - val_loss: 1.7515 - val_accuracy: 0.2463\n",
            "Epoch 2/10\n",
            "50/50 [==============================] - 11s 228ms/step - loss: 1.7179 - accuracy: 0.2782 - val_loss: 1.7353 - val_accuracy: 0.2617\n",
            "Epoch 3/10\n",
            "50/50 [==============================] - 10s 204ms/step - loss: 1.6641 - accuracy: 0.3192 - val_loss: 1.6714 - val_accuracy: 0.3033\n",
            "Epoch 4/10\n",
            "50/50 [==============================] - 10s 200ms/step - loss: 1.6210 - accuracy: 0.3441 - val_loss: 1.6347 - val_accuracy: 0.3542\n",
            "Epoch 5/10\n",
            "50/50 [==============================] - 13s 257ms/step - loss: 1.5758 - accuracy: 0.3767 - val_loss: 1.5968 - val_accuracy: 0.3604\n",
            "Epoch 6/10\n",
            "50/50 [==============================] - 11s 219ms/step - loss: 1.5452 - accuracy: 0.3886 - val_loss: 1.6020 - val_accuracy: 0.3525\n",
            "Epoch 7/10\n",
            "50/50 [==============================] - 10s 200ms/step - loss: 1.5137 - accuracy: 0.4081 - val_loss: 1.5527 - val_accuracy: 0.3913\n",
            "Epoch 8/10\n",
            "50/50 [==============================] - 11s 229ms/step - loss: 1.4793 - accuracy: 0.4300 - val_loss: 1.5339 - val_accuracy: 0.3963\n",
            "Epoch 9/10\n",
            "50/50 [==============================] - 9s 175ms/step - loss: 1.4477 - accuracy: 0.4436 - val_loss: 1.5239 - val_accuracy: 0.3933\n",
            "Epoch 10/10\n",
            "50/50 [==============================] - 11s 225ms/step - loss: 1.4206 - accuracy: 0.4566 - val_loss: 1.5031 - val_accuracy: 0.4142\n",
            "75/75 - 1s - loss: 1.5031 - accuracy: 0.4142 - 774ms/epoch - 10ms/step\n"
          ]
        },
        {
          "output_type": "display_data",
          "data": {
            "text/plain": [
              "<Figure size 640x480 with 1 Axes>"
            ],
            "image/png": "[encoded data removed]"
          },
          "metadata": {}
        },
        {
          "output_type": "stream",
          "name": "stdout",
          "text": [
            "Test loss is 1.5030776262283325 and test accuracy is 0.414166659116745\n",
            "Epoch 1/10\n",
            "50/50 [==============================] - 12s 234ms/step - loss: 2.4275 - accuracy: 0.1926 - val_loss: 1.7667 - val_accuracy: 0.2079\n",
            "Epoch 2/10\n",
            "50/50 [==============================] - 10s 197ms/step - loss: 1.7539 - accuracy: 0.2214 - val_loss: 1.7532 - val_accuracy: 0.2483\n",
            "Epoch 3/10\n",
            "50/50 [==============================] - 11s 210ms/step - loss: 1.7352 - accuracy: 0.2496 - val_loss: 1.7302 - val_accuracy: 0.2612\n",
            "Epoch 4/10\n",
            "50/50 [==============================] - 12s 233ms/step - loss: 1.7105 - accuracy: 0.2794 - val_loss: 1.7147 - val_accuracy: 0.2696\n",
            "Epoch 5/10\n",
            "50/50 [==============================] - 9s 181ms/step - loss: 1.6853 - accuracy: 0.2931 - val_loss: 1.6852 - val_accuracy: 0.3000\n",
            "Epoch 6/10\n",
            "50/50 [==============================] - 12s 242ms/step - loss: 1.6481 - accuracy: 0.3277 - val_loss: 1.6722 - val_accuracy: 0.3088\n",
            "Epoch 7/10\n",
            "50/50 [==============================] - 12s 236ms/step - loss: 1.6193 - accuracy: 0.3384 - val_loss: 1.6179 - val_accuracy: 0.3517\n",
            "Epoch 8/10\n",
            "50/50 [==============================] - 9s 182ms/step - loss: 1.5651 - accuracy: 0.3694 - val_loss: 1.5998 - val_accuracy: 0.3600\n",
            "Epoch 9/10\n",
            "50/50 [==============================] - 12s 234ms/step - loss: 1.5226 - accuracy: 0.3963 - val_loss: 1.5652 - val_accuracy: 0.3729\n",
            "Epoch 10/10\n",
            "50/50 [==============================] - 11s 224ms/step - loss: 1.4738 - accuracy: 0.4187 - val_loss: 1.5462 - val_accuracy: 0.3812\n",
            "75/75 - 1s - loss: 1.5462 - accuracy: 0.3812 - 892ms/epoch - 12ms/step\n"
          ]
        },
        {
          "output_type": "display_data",
          "data": {
            "text/plain": [
              "<Figure size 640x480 with 1 Axes>"
            ],
            "image/png": "[encoded data removed]"
          },
          "metadata": {}
        },
        {
          "output_type": "stream",
          "name": "stdout",
          "text": [
            "Test loss is 1.5461989641189575 and test accuracy is 0.3812499940395355\n",
            "Epoch 1/10\n",
            "50/50 [==============================] - 20s 385ms/step - loss: 1.7772 - accuracy: 0.2089 - val_loss: 1.7502 - val_accuracy: 0.2733\n",
            "Epoch 2/10\n",
            "50/50 [==============================] - 19s 383ms/step - loss: 1.7314 - accuracy: 0.2659 - val_loss: 1.7190 - val_accuracy: 0.2675\n",
            "Epoch 3/10\n",
            "50/50 [==============================] - 20s 396ms/step - loss: 1.6918 - accuracy: 0.2910 - val_loss: 1.6860 - val_accuracy: 0.2967\n",
            "Epoch 4/10\n",
            "50/50 [==============================] - 21s 417ms/step - loss: 1.6481 - accuracy: 0.3202 - val_loss: 1.6567 - val_accuracy: 0.3142\n",
            "Epoch 5/10\n",
            "50/50 [==============================] - 19s 382ms/step - loss: 1.6110 - accuracy: 0.3459 - val_loss: 1.6258 - val_accuracy: 0.3450\n",
            "Epoch 6/10\n",
            "50/50 [==============================] - 19s 382ms/step - loss: 1.5784 - accuracy: 0.3660 - val_loss: 1.5865 - val_accuracy: 0.3479\n",
            "Epoch 7/10\n",
            "50/50 [==============================] - 19s 386ms/step - loss: 1.5546 - accuracy: 0.3721 - val_loss: 1.5708 - val_accuracy: 0.3638\n",
            "Epoch 8/10\n",
            "50/50 [==============================] - 19s 382ms/step - loss: 1.5210 - accuracy: 0.3916 - val_loss: 1.5581 - val_accuracy: 0.3663\n",
            "Epoch 9/10\n",
            "50/50 [==============================] - 23s 460ms/step - loss: 1.4944 - accuracy: 0.4118 - val_loss: 1.5339 - val_accuracy: 0.3837\n",
            "Epoch 10/10\n",
            "50/50 [==============================] - 21s 418ms/step - loss: 1.4657 - accuracy: 0.4276 - val_loss: 1.5665 - val_accuracy: 0.3796\n",
            "75/75 - 1s - loss: 1.5665 - accuracy: 0.3796 - 1s/epoch - 16ms/step\n"
          ]
        },
        {
          "output_type": "display_data",
          "data": {
            "text/plain": [
              "<Figure size 640x480 with 1 Axes>"
            ],
            "image/png": "[encoded data removed]"
          },
          "metadata": {}
        },
        {
          "output_type": "stream",
          "name": "stdout",
          "text": [
            "Test loss is 1.5665338039398193 and test accuracy is 0.37958332896232605\n",
            "Epoch 1/10\n",
            "50/50 [==============================] - 21s 401ms/step - loss: 1.7689 - accuracy: 0.2336 - val_loss: 1.7350 - val_accuracy: 0.2683\n",
            "Epoch 2/10\n",
            "50/50 [==============================] - 21s 430ms/step - loss: 1.6886 - accuracy: 0.2950 - val_loss: 1.6681 - val_accuracy: 0.3125\n",
            "Epoch 3/10\n",
            "50/50 [==============================] - 21s 412ms/step - loss: 1.6324 - accuracy: 0.3378 - val_loss: 1.6357 - val_accuracy: 0.3271\n",
            "Epoch 4/10\n",
            "50/50 [==============================] - 20s 397ms/step - loss: 1.5827 - accuracy: 0.3684 - val_loss: 1.5980 - val_accuracy: 0.3542\n",
            "Epoch 5/10\n",
            "50/50 [==============================] - 20s 396ms/step - loss: 1.5416 - accuracy: 0.3918 - val_loss: 1.5760 - val_accuracy: 0.3600\n",
            "Epoch 6/10\n",
            "50/50 [==============================] - 20s 399ms/step - loss: 1.5010 - accuracy: 0.4131 - val_loss: 1.6011 - val_accuracy: 0.3487\n",
            "Epoch 7/10\n",
            "50/50 [==============================] - 22s 430ms/step - loss: 1.4651 - accuracy: 0.4360 - val_loss: 1.5387 - val_accuracy: 0.3925\n",
            "Epoch 8/10\n",
            "50/50 [==============================] - 20s 394ms/step - loss: 1.4151 - accuracy: 0.4545 - val_loss: 1.5288 - val_accuracy: 0.3942\n",
            "Epoch 9/10\n",
            "50/50 [==============================] - 20s 396ms/step - loss: 1.3797 - accuracy: 0.4688 - val_loss: 1.5424 - val_accuracy: 0.3917\n",
            "Epoch 10/10\n",
            "50/50 [==============================] - 20s 396ms/step - loss: 1.3432 - accuracy: 0.4916 - val_loss: 1.5521 - val_accuracy: 0.3938\n",
            "75/75 - 1s - loss: 1.5521 - accuracy: 0.3938 - 1s/epoch - 16ms/step\n"
          ]
        },
        {
          "output_type": "display_data",
          "data": {
            "text/plain": [
              "<Figure size 640x480 with 1 Axes>"
            ],
            "image/png": "[encoded data removed]"
          },
          "metadata": {}
        },
        {
          "output_type": "stream",
          "name": "stdout",
          "text": [
            "Test loss is 1.5520551204681396 and test accuracy is 0.39375001192092896\n",
            "Epoch 1/10\n",
            "100/100 [==============================] - 20s 196ms/step - loss: 1.7830 - accuracy: 0.2023 - val_loss: 1.7680 - val_accuracy: 0.2267\n",
            "Epoch 2/10\n",
            "100/100 [==============================] - 19s 193ms/step - loss: 1.7484 - accuracy: 0.2489 - val_loss: 1.7396 - val_accuracy: 0.2546\n",
            "Epoch 3/10\n",
            "100/100 [==============================] - 20s 196ms/step - loss: 1.7188 - accuracy: 0.2655 - val_loss: 1.7115 - val_accuracy: 0.2642\n",
            "Epoch 4/10\n",
            "100/100 [==============================] - 22s 218ms/step - loss: 1.6815 - accuracy: 0.2960 - val_loss: 1.6711 - val_accuracy: 0.2946\n",
            "Epoch 5/10\n",
            "100/100 [==============================] - 20s 198ms/step - loss: 1.6363 - accuracy: 0.3336 - val_loss: 1.6403 - val_accuracy: 0.3200\n",
            "Epoch 6/10\n",
            "100/100 [==============================] - 19s 194ms/step - loss: 1.5938 - accuracy: 0.3499 - val_loss: 1.5896 - val_accuracy: 0.3483\n",
            "Epoch 7/10\n",
            "100/100 [==============================] - 20s 196ms/step - loss: 1.5520 - accuracy: 0.3794 - val_loss: 1.5766 - val_accuracy: 0.3633\n",
            "Epoch 8/10\n",
            "100/100 [==============================] - 20s 197ms/step - loss: 1.5260 - accuracy: 0.3911 - val_loss: 1.5563 - val_accuracy: 0.3767\n",
            "Epoch 9/10\n",
            "100/100 [==============================] - 22s 219ms/step - loss: 1.4881 - accuracy: 0.4085 - val_loss: 1.5420 - val_accuracy: 0.3854\n",
            "Epoch 10/10\n",
            "100/100 [==============================] - 19s 193ms/step - loss: 1.4553 - accuracy: 0.4231 - val_loss: 1.5313 - val_accuracy: 0.4013\n",
            "75/75 - 1s - loss: 1.5313 - accuracy: 0.4013 - 1s/epoch - 16ms/step\n"
          ]
        },
        {
          "output_type": "display_data",
          "data": {
            "text/plain": [
              "<Figure size 640x480 with 1 Axes>"
            ],
            "image/png": "[encoded data removed]"
          },
          "metadata": {}
        },
        {
          "output_type": "stream",
          "name": "stdout",
          "text": [
            "Test loss is 1.5312614440917969 and test accuracy is 0.4012500047683716\n"
          ]
        }
      ]
    },
    {
      "cell_type": "markdown",
      "source": [
        "To run this data needs to be reformatted again:"
      ],
      "metadata": {
        "id": "Etz2cCs99kIW"
      },
      "id": "Etz2cCs99kIW"
    },
    {
      "cell_type": "code",
      "source": [
        "test_loss_6, test_acc_6, model_cnn_6 = create_fit_cnn(1, arrays_train, train_labels, arrays_test, test_labels, 10, 192, 'relu')\n",
        "print(f\"Test loss is {test_loss_6} and test accuracy is {test_acc_6}\")\n",
        "test_loss_7, test_acc_7, model_cnn_7 = create_fit_cnn(2, arrays_train, train_labels, arrays_test, test_labels, 10, 96, 'relu')\n",
        "print(f\"Test loss is {test_loss_7} and test accuracy is {test_acc_7}\")"
      ],
      "metadata": {
        "colab": {
          "base_uri": "https://localhost:8080/",
          "height": 1000
        },
        "id": "AHt80bX89WvI",
        "outputId": "a7c878b7-bac5-4d90-84ab-32eec5915e77"
      },
      "id": "AHt80bX89WvI",
      "execution_count": null,
      "outputs": [
        {
          "output_type": "stream",
          "name": "stdout",
          "text": [
            "Epoch 1/10\n",
            "50/50 [==============================] - 70s 1s/step - loss: 2.2388 - accuracy: 0.1805 - val_loss: 1.7694 - val_accuracy: 0.2100\n",
            "Epoch 2/10\n",
            "50/50 [==============================] - 60s 1s/step - loss: 1.7497 - accuracy: 0.2456 - val_loss: 1.7436 - val_accuracy: 0.2508\n",
            "Epoch 3/10\n",
            "50/50 [==============================] - 62s 1s/step - loss: 1.7099 - accuracy: 0.2873 - val_loss: 1.7165 - val_accuracy: 0.2587\n",
            "Epoch 4/10\n",
            "50/50 [==============================] - 65s 1s/step - loss: 1.6742 - accuracy: 0.3137 - val_loss: 1.6975 - val_accuracy: 0.2804\n",
            "Epoch 5/10\n",
            "50/50 [==============================] - 65s 1s/step - loss: 1.6311 - accuracy: 0.3396 - val_loss: 1.6640 - val_accuracy: 0.3083\n",
            "Epoch 6/10\n",
            "50/50 [==============================] - 59s 1s/step - loss: 1.5803 - accuracy: 0.3728 - val_loss: 1.6692 - val_accuracy: 0.2975\n",
            "Epoch 7/10\n",
            "50/50 [==============================] - 60s 1s/step - loss: 1.5227 - accuracy: 0.4119 - val_loss: 1.6661 - val_accuracy: 0.3225\n",
            "Epoch 8/10\n",
            "50/50 [==============================] - 67s 1s/step - loss: 1.4687 - accuracy: 0.4320 - val_loss: 1.6060 - val_accuracy: 0.3492\n",
            "Epoch 9/10\n",
            "50/50 [==============================] - 63s 1s/step - loss: 1.4097 - accuracy: 0.4629 - val_loss: 1.5779 - val_accuracy: 0.3692\n",
            "Epoch 10/10\n",
            "50/50 [==============================] - 65s 1s/step - loss: 1.3665 - accuracy: 0.4852 - val_loss: 1.5904 - val_accuracy: 0.3583\n",
            "75/75 - 4s - loss: 1.5904 - accuracy: 0.3583 - 4s/epoch - 59ms/step\n"
          ]
        },
        {
          "output_type": "display_data",
          "data": {
            "text/plain": [
              "<Figure size 640x480 with 1 Axes>"
            ],
            "image/png": "[encoded data removed]"
          },
          "metadata": {}
        },
        {
          "output_type": "stream",
          "name": "stdout",
          "text": [
            "Test loss is 1.5904172658920288 and test accuracy is 0.3583333194255829\n",
            "Epoch 1/10\n",
            "100/100 [==============================] - 97s 961ms/step - loss: 1.7943 - accuracy: 0.1715 - val_loss: 1.7872 - val_accuracy: 0.1887\n",
            "Epoch 2/10\n",
            "100/100 [==============================] - 100s 1s/step - loss: 1.7667 - accuracy: 0.2201 - val_loss: 1.7506 - val_accuracy: 0.2400\n",
            "Epoch 3/10\n",
            "100/100 [==============================] - 112s 1s/step - loss: 1.7344 - accuracy: 0.2592 - val_loss: 1.7295 - val_accuracy: 0.2550\n",
            "Epoch 4/10\n",
            "100/100 [==============================] - 94s 944ms/step - loss: 1.7044 - accuracy: 0.2812 - val_loss: 1.7026 - val_accuracy: 0.2808\n",
            "Epoch 5/10\n",
            "100/100 [==============================] - 96s 961ms/step - loss: 1.6715 - accuracy: 0.3079 - val_loss: 1.7146 - val_accuracy: 0.2700\n",
            "Epoch 6/10\n",
            "100/100 [==============================] - 93s 933ms/step - loss: 1.6406 - accuracy: 0.3230 - val_loss: 1.6594 - val_accuracy: 0.3067\n",
            "Epoch 7/10\n",
            "100/100 [==============================] - 93s 924ms/step - loss: 1.6018 - accuracy: 0.3502 - val_loss: 1.6688 - val_accuracy: 0.2979\n",
            "Epoch 8/10\n",
            "100/100 [==============================] - 96s 965ms/step - loss: 1.5852 - accuracy: 0.3615 - val_loss: 1.6305 - val_accuracy: 0.3246\n",
            "Epoch 9/10\n",
            "100/100 [==============================] - 91s 915ms/step - loss: 1.5502 - accuracy: 0.3833 - val_loss: 1.6342 - val_accuracy: 0.3292\n",
            "Epoch 10/10\n",
            "100/100 [==============================] - 97s 974ms/step - loss: 1.5253 - accuracy: 0.3961 - val_loss: 1.6309 - val_accuracy: 0.3342\n",
            "75/75 - 4s - loss: 1.6309 - accuracy: 0.3342 - 4s/epoch - 58ms/step\n"
          ]
        },
        {
          "output_type": "display_data",
          "data": {
            "text/plain": [
              "<Figure size 640x480 with 1 Axes>"
            ],
            "image/png": "[encoded data removed]"
          },
          "metadata": {}
        },
        {
          "output_type": "stream",
          "name": "stdout",
          "text": [
            "Test loss is 1.6308726072311401 and test accuracy is 0.33416667580604553\n"
          ]
        }
      ]
    },
    {
      "cell_type": "markdown",
      "source": [
        "Here is the table of evaluation for each fit."
      ],
      "metadata": {
        "id": "wsX6q-ef9qW8"
      },
      "id": "wsX6q-ef9qW8"
    },
    {
      "cell_type": "markdown",
      "source": [
        "| Experiment | Input Size | Activation Function | Number of Layers | Batch Size | Mean Loss | Accuracy |\n",
        "|------------|------------|----------------------|-------------------|------------|-----------|----------|\n",
        "| 1          | 32x32x1    | ReLU                 | 1                 | 192        | 1.50      | 0.41     |\n",
        "| 2          | 32x32x1    | tanh                 | 1                 | 192        | 1.54      | 0.38     |\n",
        "| 3          | 32x32x1    | ReLU                 | 2                 | 192        | 1.56      | 0.38     |\n",
        "| 4          | 32x32x1    | tanh                 | 2                 | 192        | 1.55      | 0.39     |\n",
        "| 5          | 32x32x1    | ReLU                 | 2                 | 96         | 1.53      | 0.40     |\n",
        "| 6          | 64x64x1    | ReLU                 | 1                 | 96         | 1.59      | 0.36     |\n",
        "| 7          | 64x64x1    | ReLU                 | 1                 | 192        | 1.63      | 0.33     |\n"
      ],
      "metadata": {
        "id": "EhokjHimLaA0"
      },
      "id": "EhokjHimLaA0"
    },
    {
      "cell_type": "markdown",
      "source": [
        "#### Observation for CNN:\n",
        "\n",
        "ReLU activation (Experiments 1, 3, 5, 6, 7) generally outperforms tanh activation (Experiments 2, 4) across various configurations.\n",
        "\n",
        "Adding a second layer (Experiments 3, 4, 5) doesn't consistently improve performance and, in some cases, slightly reduces accuracy.\n",
        "\n",
        "Smaller batch sizes (Experiments 5, 6) tend to have a positive impact on accuracy.\n",
        "\n",
        "Larger input size (Experiment 6 with 64x64x1) doesn't consistently result in better performance and may slightly decrease accuracy. Also, it converged very slow.\n",
        "\n",
        "Mean loss values are relatively close, indicating consistent training across experiments.\n",
        "\n",
        "P.S : A custom learning rate is not used on CNN because when applied a custom optimizer, model yielded no more than 0.2 accuracy.\n",
        "\n",
        "#### Conclusion:\n",
        "\n",
        "ReLU activation is generally preferable.\n",
        "The impact of the number of layers and input size is not uniform.\n",
        "Smaller batch sizes can contribute to improved accuracy.\n",
        "Fine-tuning specific configurations may be necessary for optimal performance."
      ],
      "metadata": {
        "id": "CSIQyT7JLzcp"
      },
      "id": "CSIQyT7JLzcp"
    },
    {
      "cell_type": "markdown",
      "source": [
        "### Comparison of MLP and CNN on the table"
      ],
      "metadata": {
        "id": "A7Je-gQ89sZT"
      },
      "id": "A7Je-gQ89sZT"
    },
    {
      "cell_type": "markdown",
      "source": [
        "#### Common Trends:\n",
        "\n",
        "Both tables explore different configurations of neural networks with ReLU and tanh activations.\n",
        "Larger input sizes (64x64x1) are tested in both tables.\n",
        "\n",
        "#### MLP vs. CNN:\n",
        "\n",
        "The CNN table explores fewer hyperparameters (e.g., no hidden layer size) due to the convolutional nature of the networks.\n",
        "MLP achieves higher accuracy (up to 0.83) compared to CNN (up to 0.41).\n",
        "Mean loss values in the MLP table are relatively higher, suggesting potential overfitting.\n",
        "\n",
        "#### Batch Size Impact:\n",
        "\n",
        "In the MLP table, Experiment 8 with a reduced batch size shows a slight increase in accuracy.\n",
        "In the CNN table, smaller batch sizes (Experiments 5, 6) also exhibit positive impacts on accuracy.\n",
        "\n",
        "#### Learning Rate Impact:\n",
        "\n",
        "In the MLP table, Experiment 7 with an increased learning rate achieves the highest accuracy.\n",
        "The CNN table does not explicitly explore the learning rate. Because when applied a custom optimizer, model's accuracy was too low as explained in the CNN table's observations.\n",
        "\n",
        "#### Conclusion:\n",
        "\n",
        "MLPs outperform CNNs in terms of accuracy in the provided experiments.\n",
        "Impact of input size, activation functions, and batch size is observed in both MLP and CNN configurations.\n",
        "In this position, correct model to pick would be CNN even though it yielded lower accuracy because it doesn't overfit to data. With more exploration and fine-tuning hyperparameters, CNN would outperform the custom MLP structure implemented."
      ],
      "metadata": {
        "id": "zuqrtqY6NUoG"
      },
      "id": "zuqrtqY6NUoG"
    },
    {
      "cell_type": "markdown",
      "source": [
        "## REPORT"
      ],
      "metadata": {
        "id": "yMvLCc_oOWNn"
      },
      "id": "yMvLCc_oOWNn"
    },
    {
      "cell_type": "markdown",
      "source": [
        "### Introduction\n",
        "This assignment comprises two main parts: theoretical questions and a classification task on mel spectrograms.\n",
        "\n",
        "In Part 1, a detailed examination of a Convolutional Neural Network (CNN) is conducted, analyzing the input through convolutions, poolings, and fully connected layers. Python is employed to calculate Output Volume Shapes and Number of Parameters at each step. Additionally, given a neural network formula, outputs are computed, and specific parameters are derived based on network specifications.\n",
        "\n",
        "In Part 2, the task involves image classification using MLP and CNN on a dataset of audio samples visualized as images through frequencies. The objective is to classify the age of the voice owner.\n",
        "\n",
        "### Data Preprocessing\n",
        "Data is imported from Google Drive, extracted from a zip file, and read as a comma-separated values (csv) file.\n",
        "\n",
        "The target feature (age) is one-hot encoded, and other columns, excluding the filename column containing file paths, are retained. Functions for grayscaling images using the luminosity method (made the program run faster), reading file paths to import the corresponding images, resizing, grayscaling, normalizing pixels, and returning images as arrays are implemented. These arrays are iteratively incorporated into the dataframe, rendering the data ready for model input.\n",
        "\n",
        "### MLP Implementation and Experiments\n",
        "After preprocessing, an MLP model is implemented using only NumPy, with guidance from a GitHub source. Activation functions (ReLU and tanh) and their derivatives are implemented, followed by the loss function (negative likelihood).\n",
        "\n",
        "The system is encapsulated as a class with various attributes. Experiments with different hyperparameters are conducted and interpreted through a table.\n",
        "\n",
        "#### Observations from the experiments for MLP:\n",
        "\n",
        "-ReLU achieved higher accuracy compared to tanh, making it a more suitable activation function.\n",
        "\n",
        "Increasing hidden layer size generally improved performance.\n",
        "\n",
        "-A higher learning rate generally led to higher accuracy within a reasonable boundary.\n",
        "\n",
        "-Reduced batch size yielded better performance in experiments.\n",
        "\n",
        "-The model exhibited signs of overfitting on the data, as discussed in more detail in the corresponding section.\n",
        "\n",
        "### CNN Implementation and Experiments\n",
        "The CNN system is implemented with TensorFlow using models.Sequential.\n",
        "\n",
        "A function is created to construct, fit, and evaluate a CNN model, employing softmax activation and categorical cross-entropy (negative likelihood).\n",
        "Experiments with different hyperparameters are conducted, and validation accuracy vs. test accuracy is visualized in a plot for each call.\n",
        "\n",
        "#### Observations from the experiments:\n",
        "\n",
        "-ReLU had slightly higher accuracy compared to tanh.\n",
        "\n",
        "-Smaller batch size tended to have a positive impact on accuracy.\n",
        "\n",
        "-Larger input size converged very slowly and didn’t consistently result in better performance.\n",
        "\n",
        "### Model Comparison\n",
        "\n",
        "A comparison of MLP and CNN is presented using tables.\n",
        "\n",
        "Key findings include:\n",
        "\n",
        "-Loss values and accuracy are higher in MLP, indicating overfitting.\n",
        "\n",
        "-Smaller batch sizes improved accuracy in both models.\n",
        "\n",
        "In summary, CNN demonstrates more consistency, despite lower accuracy (and lower loss), while MLP exhibits higher accuracy but higher loss, indicating overfitting.\n",
        "\n",
        "### Conclusion\n",
        "\n",
        "This assignment involved an in-depth exploration of MLP and CNN models, applied to a mel spectrogram dataset. It was concluded that with better fine-tuning, CNN would likely outperform MLP in image processing tasks."
      ],
      "metadata": {
        "id": "_HXIDY4YPOPo"
      },
      "id": "_HXIDY4YPOPo"
    }
  ],
  "metadata": {
    "accelerator": "GPU",
    "colab": {
      "provenance": [],
      "gpuType": "T4",
      "collapsed_sections": [
        "c6e0eacb",
        "b5e3b8cc",
        "006d453f",
        "acbc76d9",
        "DECoGDDYON6H",
        "c9b32994",
        "CFmFywd3K3xW",
        "A7Je-gQ89sZT",
        "yMvLCc_oOWNn",
        "_HXIDY4YPOPo"
      ]
    },
    "kernelspec": {
      "display_name": "Python 3",
      "name": "python3"
    },
    "language_info": {
      "codemirror_mode": {
        "name": "ipython",
        "version": 3
      },
      "file_extension": ".py",
      "mimetype": "text/x-python",
      "name": "python",
      "nbconvert_exporter": "python",
      "pygments_lexer": "ipython3",
      "version": "3.8.8"
    }
  },
  "nbformat": 4,
  "nbformat_minor": 5
}